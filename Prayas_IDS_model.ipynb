{
  "nbformat": 4,
  "nbformat_minor": 0,
  "metadata": {
    "colab": {
      "name": "Prayas_IDS_model.ipynb",
      "provenance": [],
      "mount_file_id": "1vun1KXPUnrnRUO7Hl67EFcEGvzE8SPTw",
      "authorship_tag": "ABX9TyMtcqauf9bvMHML+rfbSDcA"
    },
    "kernelspec": {
      "name": "python3",
      "display_name": "Python 3"
    }
  },
  "cells": [
    {
      "cell_type": "code",
      "metadata": {
        "id": "teEGchnuFD2u",
        "colab_type": "code",
        "colab": {}
      },
      "source": [
        "import numpy as np\n",
        "import pandas as pd\n",
        "import torch.nn as nn\n",
        "import torch.optim as optim\n",
        "import sklearn\n",
        "from sklearn.model_selection import train_test_split\n",
        "import torch\n",
        "import torchvision\n",
        "import torchvision.transforms as transforms\n",
        "from torch.utils.data import Dataset, DataLoader\n",
        "import torch.utils.data as data_utils\n",
        "import seaborn as sns\n",
        "import matplotlib.pyplot as plt"
      ],
      "execution_count": 0,
      "outputs": []
    },
    {
      "cell_type": "markdown",
      "metadata": {
        "id": "0ju21AEH5Y5S",
        "colab_type": "text"
      },
      "source": [
        "# Preprocessing"
      ]
    },
    {
      "cell_type": "code",
      "metadata": {
        "id": "35FnjVc5EopK",
        "colab_type": "code",
        "colab": {}
      },
      "source": [
        "import pandas as pd\n",
        "import numpy as np\n",
        "from glob import glob\n",
        "from sklearn import preprocessing\n",
        "from sklearn.model_selection import StratifiedShuffleSplit\n",
        "from sklearn.preprocessing import StandardScaler\n",
        "import os\n",
        "\n",
        "\n",
        "def combine_csv():\n",
        "    data_files = sorted(glob('/content/drive/My Drive/MachineLearningCSV/MachineLearningCVE/Dataset/*.pcap_ISCX.csv'))\n",
        "    ids = pd.read_csv(data_files[0])\n",
        "    for i in range(1, len(data_files)):\n",
        "        dfi = pd.read_csv(data_files[i])\n",
        "        dfi.dropna(axis=0, how='any', inplace=True)\n",
        "        ids = pd.concat((ids, dfi), ignore_index=True)\n",
        "\n",
        "    del dfi\n",
        "    print(ids.head())\n",
        "    print(ids.head())\n",
        "    ids.to_csv('/content/drive/My Drive/MachineLearningCSV/MachineLearningCVE/Dataset/combined_data.csv', index=False)\n",
        "\n",
        "\n",
        "def resize_dataset():\n",
        "    ids = pd.read_csv('/content/drive/My Drive/MachineLearningCSV/MachineLearningCVE/Dataset/combined_data.csv',\n",
        "                      dtype={'Flow Bytes/s': str, ' Flow Packets/s': str})\n",
        "    labels_to_drop = {'BENIGN': 0.1, 'DoS Hulk': 0.3, 'DDoS': 0.3, 'PortScan': 0.3}\n",
        "    for label in labels_to_drop:\n",
        "        df = ids.loc[ids[' Label'] == label]\n",
        "        ids.drop(ids.index[ids[' Label'] == label], inplace=True)\n",
        "        df = df.sample(frac=labels_to_drop[label])\n",
        "        ids = pd.concat((ids, df), ignore_index=True)\n",
        "\n",
        "    ids = ids.sample(frac=1, random_state=42)\n",
        "    ids.reset_index(drop=True, inplace=True)\n",
        "    ids['Flow Bytes/s'] = ids['Flow Bytes/s'].str.strip()\n",
        "    ids[' Flow Packets/s'] = ids[' Flow Packets/s'].str.strip()\n",
        "    ids = ids.astype({'Flow Bytes/s': float, ' Flow Packets/s': float})\n",
        "    ids.columns = ids.columns.str.strip()\n",
        "    ids.dropna(inplace=True)\n",
        "    indices_to_keep = ~ids.isin([np.nan, np.inf, -np.inf]).any(axis=1)\n",
        "    ids = ids[indices_to_keep]\n",
        "    ids.to_csv('/content/drive/My Drive/MachineLearningCSV/MachineLearningCVE/Dataset/resized_data.csv', index=False)\n",
        "    return ids\n",
        "\n",
        "\n",
        "def binary_label_encoder(y):\n",
        "    '''\n",
        "    converts multiclass labels to binary labels\n",
        "    '''\n",
        "    y[\"BinaryLabel\"] = (y[\"Label\"] != 'BENIGN').astype(int)\n",
        "\n",
        "    return y\n",
        "\n",
        "\n",
        "def split_dataset(df):\n",
        "    '''\n",
        "    Takes a dataframe df and splits it in 0.7:0.15:0.15 ratio for training, cross-validation and test sets.\n",
        "    '''\n",
        "    split = StratifiedShuffleSplit(n_splits=1, test_size=0.15, random_state=42)\n",
        "    for train_index, test_index in split.split(df, df['BinaryLabel']):\n",
        "        train = df.loc[train_index]\n",
        "        test = df.loc[test_index]\n",
        "\n",
        "    for train_index, cv_index in split.split(train, train['BinaryLabel']):\n",
        "        train = df.loc[train_index]\n",
        "        cv = df.loc[cv_index]\n",
        "\n",
        "    return train, cv, test\n",
        "\n",
        "if not os.path.isfile('/content/drive/My Drive/MachineLearningCSV/MachineLearningCVE/Dataset/combined_data.csv'):\n",
        "        combine_csv()\n",
        "if not os.path.isfile('/content/drive/My Drive/MachineLearningCSV/MachineLearningCVE/Dataset/resized_data.csv'):\n",
        "        resize_dataset()\n",
        "\n",
        "\n"
      ],
      "execution_count": 0,
      "outputs": []
    },
    {
      "cell_type": "markdown",
      "metadata": {
        "id": "7FnxZICD8bGw",
        "colab_type": "text"
      },
      "source": [
        "# Feature Selection"
      ]
    },
    {
      "cell_type": "code",
      "metadata": {
        "id": "uQ2J9aTB39OR",
        "colab_type": "code",
        "outputId": "169dfb24-32c4-49d2-aa83-8fdad68e1d9e",
        "colab": {
          "base_uri": "https://localhost:8080/",
          "height": 205
        }
      },
      "source": [
        "import pandas as pd\n",
        "import numpy as np\n",
        "from sklearn.feature_selection import SelectKBest\n",
        "from sklearn.preprocessing import MinMaxScaler\n",
        "from sklearn.feature_selection import chi2\n",
        "#from preprocessing import binary_label_encoder, split_dataset\n",
        "\n",
        "dataset = pd.read_csv(\"/content/drive/My Drive/MachineLearningCSV/MachineLearningCVE/Dataset/resized_data.csv\")\n",
        "dataset = binary_label_encoder(dataset)\n",
        "train, cv, test = split_dataset(dataset)\n",
        "\n",
        "\n",
        "y_train = train[['BinaryLabel']]\n",
        "X_train = train.drop(['Label', 'BinaryLabel'], axis=1, inplace=False)\n",
        "cols = X_train.columns.tolist()\n",
        "mm_scaler = MinMaxScaler()\n",
        "X_new = X_train\n",
        "X_new[cols] = mm_scaler.fit_transform(X_train[cols])\n",
        "y_train = y_train['BinaryLabel'].values\n",
        "\n",
        "y_test = test[['BinaryLabel']]\n",
        "X_test = test.drop(['Label', 'BinaryLabel'], axis=1, inplace=False)\n",
        "cols = X_test.columns.tolist()\n",
        "mm_scaler = MinMaxScaler()\n",
        "X_test = X_test\n",
        "X_test[cols] = mm_scaler.fit_transform(X_test[cols])\n",
        "y_test = y_test['BinaryLabel'].values\n",
        "\n",
        "# Features needed can be changed below to get the top 'k'\n",
        "# features for model training\n",
        "features_needed = 15\n",
        "\n",
        "######################################################################\n",
        "\n",
        "print(\"Selection based on Pearson Correlation\")\n",
        "\n",
        "\n",
        "def cor_selector(X, y, num_feats):\n",
        "    cor_list = []\n",
        "    feature_name = X.columns.tolist()\n",
        "    # calculate the correlation with y for each feature\n",
        "    for i in X.columns.tolist():\n",
        "        cor = np.corrcoef(X[i], y)[0, 1]\n",
        "        cor_list.append(cor)\n",
        "    # replace NaN with 0\n",
        "    cor_list = [0 if np.isnan(i) else i for i in cor_list]\n",
        "    # feature name\n",
        "    cor_feature = X.iloc[:, np.argsort(np.abs(cor_list))[-num_feats:]].columns.tolist()\n",
        "    # feature selection? 0 for not select, 1 for select\n",
        "    cor_support = [True if i in cor_feature else False for i in feature_name]\n",
        "    return cor_support, cor_feature\n",
        "\n",
        "\n",
        "cor_support, cor_feature = cor_selector(X_new, y, features_needed)\n",
        "print(str(len(cor_feature)), 'selected features')\n",
        "print(cor_feature)\n",
        "\n",
        "#####################################################################\n",
        "\n",
        "print(\"Selection based on chi square distibution\")\n",
        "\n",
        "chi_selector = SelectKBest(chi2, k=features_needed)\n",
        "X_kbest_features = chi_selector.fit_transform(X_new, y)\n",
        "chi_support = chi_selector.get_support()\n",
        "chi_feature = X_new.loc[:, chi_support].columns.tolist()\n",
        "print(str(len(chi_feature)), 'selected features')\n",
        "print(chi_feature)\n",
        "\n",
        "\n",
        "# # More Raw Approach - Leaving the first 2 valued and\n",
        "# # last NaN valued features, all other features are\n",
        "# # dependent and can be considered for training\n",
        "\n",
        "# print(\"Raw Approach of chi square\")\n",
        "# chi_scores = chi2(X_new,y)\n",
        "# p_values = pd.Series(chi_scores[1],index = X_new.columns)\n",
        "# p_values.sort_values(ascending = False , inplace = True)\n",
        "# # p_values.plot.bar()\n",
        "# # print(p_values)\n"
      ],
      "execution_count": 0,
      "outputs": [
        {
          "output_type": "stream",
          "text": [
            "Selection based on Pearson Correlation\n"
          ],
          "name": "stdout"
        },
        {
          "output_type": "stream",
          "text": [
            "/usr/local/lib/python3.6/dist-packages/numpy/lib/function_base.py:2534: RuntimeWarning: invalid value encountered in true_divide\n",
            "  c /= stddev[:, None]\n",
            "/usr/local/lib/python3.6/dist-packages/numpy/lib/function_base.py:2535: RuntimeWarning: invalid value encountered in true_divide\n",
            "  c /= stddev[None, :]\n"
          ],
          "name": "stderr"
        },
        {
          "output_type": "stream",
          "text": [
            "15 selected features\n",
            "['Idle Max', 'Flow IAT Max', 'Fwd IAT Max', 'Fwd IAT Std', 'Average Packet Size', 'Packet Length Mean', 'Packet Length Variance', 'Max Packet Length', 'Packet Length Std', 'Bwd Packet Length Min', 'Min Packet Length', 'Avg Bwd Segment Size', 'Bwd Packet Length Mean', 'Bwd Packet Length Max', 'Bwd Packet Length Std']\n",
            "Selection based on chi square distibution\n",
            "15 selected features\n",
            "['Flow Duration', 'Bwd Packet Length Max', 'Bwd Packet Length Mean', 'Bwd Packet Length Std', 'Flow IAT Max', 'Fwd IAT Total', 'Fwd IAT Std', 'Fwd IAT Max', 'Packet Length Std', 'Packet Length Variance', 'PSH Flag Count', 'Avg Bwd Segment Size', 'Idle Mean', 'Idle Max', 'Idle Min']\n"
          ],
          "name": "stdout"
        }
      ]
    },
    {
      "cell_type": "markdown",
      "metadata": {
        "id": "fpZsCuGG9WK0",
        "colab_type": "text"
      },
      "source": [
        "# Model"
      ]
    },
    {
      "cell_type": "code",
      "metadata": {
        "id": "PO7wTm0v9Y-n",
        "colab_type": "code",
        "colab": {}
      },
      "source": [
        "X1, Y1 = X_new[chi_feature], y_train\n",
        "X2, Y2 = X_new[cor_feature], y_train\n",
        "\n",
        "X_test ,Y_test = X_test[chi_feature], y_test"
      ],
      "execution_count": 0,
      "outputs": []
    },
    {
      "cell_type": "code",
      "metadata": {
        "id": "l2mSma6l-Lj9",
        "colab_type": "code",
        "colab": {}
      },
      "source": [
        "train_target = torch.tensor(Y1.astype(np.float32)) \n",
        "train = torch.tensor(X1.values.astype(np.float32)) \n",
        "\n",
        "train_tensor = data_utils.TensorDataset(train, train_target) \n",
        "train_loader = data_utils.DataLoader(dataset = train_tensor, batch_size = 64, shuffle = True)"
      ],
      "execution_count": 0,
      "outputs": []
    },
    {
      "cell_type": "code",
      "metadata": {
        "id": "KJhmUjqsVytT",
        "colab_type": "code",
        "colab": {}
      },
      "source": [
        "test_target = torch.tensor(Y_test.astype(np.float32))\n",
        "test = torch.tensor(X_test.values.astype(np.float32)) \n",
        "\n",
        "test_tensor = data_utils.TensorDataset(test,test_target) \n",
        "test_loader = data_utils.DataLoader(dataset = test_tensor, batch_size = 1, shuffle = False)"
      ],
      "execution_count": 0,
      "outputs": []
    },
    {
      "cell_type": "code",
      "metadata": {
        "id": "nuKrmRELFiU5",
        "colab_type": "code",
        "colab": {}
      },
      "source": [
        "class binaryClassification(nn.Module):\n",
        "    def __init__(self):\n",
        "        super(binaryClassification, self).__init__()\n",
        "        # Number of input features is 6.\n",
        "        self.layer_1 = nn.Linear(15, 34) \n",
        "        self.layer_2 = nn.Linear(34, 52)\n",
        "        self.layer_out = nn.Linear(52, 1) \n",
        "        \n",
        "        self.relu = nn.ReLU()\n",
        "        self.dropout = nn.Dropout(p=0.1)\n",
        "        self.batchnorm1 = nn.BatchNorm1d(34)\n",
        "        self.batchnorm2 = nn.BatchNorm1d(52)\n",
        "        \n",
        "    def forward(self, inputs):\n",
        "        x = self.relu(self.layer_1(inputs))\n",
        "        x = self.batchnorm1(x)\n",
        "        x = self.relu(self.layer_2(x))\n",
        "        x = self.batchnorm2(x)\n",
        "        x = self.dropout(x)\n",
        "        x = self.layer_out(x)\n",
        "        \n",
        "        return x"
      ],
      "execution_count": 0,
      "outputs": []
    },
    {
      "cell_type": "code",
      "metadata": {
        "id": "7guC8e4WPEW3",
        "colab_type": "code",
        "outputId": "b19cdf79-54aa-41b7-afa9-01a6fcb42101",
        "colab": {
          "base_uri": "https://localhost:8080/",
          "height": 168
        }
      },
      "source": [
        "model = binaryClassification()\n",
        "print(model)\n",
        "criterion = nn.BCEWithLogitsLoss()\n",
        "optimizer = optim.Adam(model.parameters(), lr=0.01)"
      ],
      "execution_count": 0,
      "outputs": [
        {
          "output_type": "stream",
          "text": [
            "binaryClassification(\n",
            "  (layer_1): Linear(in_features=15, out_features=34, bias=True)\n",
            "  (layer_2): Linear(in_features=34, out_features=52, bias=True)\n",
            "  (layer_out): Linear(in_features=52, out_features=1, bias=True)\n",
            "  (relu): ReLU()\n",
            "  (dropout): Dropout(p=0.1, inplace=False)\n",
            "  (batchnorm1): BatchNorm1d(34, eps=1e-05, momentum=0.1, affine=True, track_running_stats=True)\n",
            "  (batchnorm2): BatchNorm1d(52, eps=1e-05, momentum=0.1, affine=True, track_running_stats=True)\n",
            ")\n"
          ],
          "name": "stdout"
        }
      ]
    },
    {
      "cell_type": "code",
      "metadata": {
        "id": "owZqOrSXPiEU",
        "colab_type": "code",
        "colab": {}
      },
      "source": [
        "def binary_acc(y_pred, y_test):\n",
        "    y_pred_tag = torch.round(torch.sigmoid(y_pred))\n",
        "\n",
        "    correct_results_sum = (y_pred_tag == y_test).sum().float()\n",
        "    acc = correct_results_sum/y_test.shape[0]\n",
        "    acc = torch.round(acc * 100)\n",
        "    \n",
        "    return acc"
      ],
      "execution_count": 0,
      "outputs": []
    },
    {
      "cell_type": "code",
      "metadata": {
        "id": "xqjC_v02Ps2B",
        "colab_type": "code",
        "outputId": "208574d4-11be-4b53-bdae-05d141b9d17e",
        "colab": {
          "base_uri": "https://localhost:8080/",
          "height": 101
        }
      },
      "source": [
        "model.train()\n",
        "EPOCHS = 5\n",
        "for e in range(1, EPOCHS+1):\n",
        "    epoch_loss = 0\n",
        "    epoch_acc = 0\n",
        "    for X_batch, y_batch in train_loader:\n",
        "        #X_batch, y_batch = X_batch.to(device), y_batch.to(device)\n",
        "        optimizer.zero_grad()\n",
        "        \n",
        "        y_pred = model(X_batch)\n",
        "        \n",
        "        #print(y_pred.size())\n",
        "        #print(y_batch.size())\n",
        "        loss = criterion(y_pred, y_batch.unsqueeze(1))\n",
        "        #print(loss.size())\n",
        "        acc = binary_acc(y_pred, y_batch.unsqueeze(1))\n",
        "        \n",
        "        loss.backward()\n",
        "        optimizer.step()\n",
        "        \n",
        "        epoch_loss += loss.item()\n",
        "        epoch_acc += acc.item()\n",
        "        \n",
        "\n",
        "    print(f'Epoch {e}: | Loss: {epoch_loss/len(train_loader):.5f} | Acc: {epoch_acc/len(train_loader):.3f}')"
      ],
      "execution_count": 0,
      "outputs": [
        {
          "output_type": "stream",
          "text": [
            "Epoch 1: | Loss: 0.26852 | Acc: 87.332\n",
            "Epoch 2: | Loss: 0.23989 | Acc: 88.142\n",
            "Epoch 3: | Loss: 0.22752 | Acc: 88.673\n",
            "Epoch 4: | Loss: 0.21658 | Acc: 88.992\n",
            "Epoch 5: | Loss: 0.20930 | Acc: 89.506\n"
          ],
          "name": "stdout"
        }
      ]
    },
    {
      "cell_type": "code",
      "metadata": {
        "id": "OIWuVkBpPwh-",
        "colab_type": "code",
        "colab": {}
      },
      "source": [
        "y_pred_list = []\n",
        "y_correct = []\n",
        "model.eval()\n",
        "with torch.no_grad():\n",
        "    for X_batch, y_batch in test_loader:\n",
        "        #X_batch, y_batch = X_batch.to(device), y_batch.to(device)\n",
        "        y_test_pred = model(X_batch)\n",
        "        y_test_pred = torch.sigmoid(y_test_pred)\n",
        "        #y_pred_tag = torch.round(y_test_pred)\n",
        "        #y_pred_list.append(y_pred_tag.cpu().numpy())\n",
        "        y_pred_list.append(y_test_pred.cpu().numpy())\n",
        "        y_correct.append(y_batch.numpy())\n",
        "\n",
        "y_pred_list = [a.squeeze().tolist() for a in y_pred_list]\n",
        "y_correct_list = [a.squeeze().tolist() for a in y_correct]"
      ],
      "execution_count": 0,
      "outputs": []
    },
    {
      "cell_type": "code",
      "metadata": {
        "id": "p7eW-gezWUcL",
        "colab_type": "code",
        "colab": {}
      },
      "source": [
        "y_pred_ana = []\n",
        "y_pred_non = []\n",
        "temp1 = len(y_correct_list)\n",
        "for i in range(0,temp1):\n",
        "  if y_correct_list[i] == 1:\n",
        "    y_pred_ana.append(y_pred_list[i])\n",
        "  else:  \n",
        "    y_pred_non.append(y_pred_list[i])\n",
        "\n",
        "y_pred_non = [i * 100 for i in y_pred_non]\n",
        "y_pred_ana = [i * 100 for i in y_pred_ana]"
      ],
      "execution_count": 0,
      "outputs": []
    },
    {
      "cell_type": "code",
      "metadata": {
        "id": "a6pc79L3WbYm",
        "colab_type": "code",
        "outputId": "a8a9400a-9794-476b-b732-2c3c41e1a1c9",
        "colab": {
          "base_uri": "https://localhost:8080/",
          "height": 296
        }
      },
      "source": [
        "data = y_pred_non\n",
        "bins = np.linspace(0, 100, 25, endpoint=True)\n",
        "plt.hist(data, bins,color = 'blue',alpha =0.5, label = 'Non Spam')\n",
        "\n",
        "data1 = y_pred_ana\n",
        "bins = np.linspace(0, 100, 25, endpoint=True)\n",
        "plt.hist(data1, bins,color = 'orange', label = 'Spam')\n",
        "\n",
        "plt.legend(bbox_to_anchor=(1.05, 1), loc='upper left')\n",
        "plt.xlabel('Anamoaly Score')\n",
        "plt.ylabel('Occurences')"
      ],
      "execution_count": 0,
      "outputs": [
        {
          "output_type": "execute_result",
          "data": {
            "text/plain": [
              "Text(0, 0.5, 'Occurences')"
            ]
          },
          "metadata": {
            "tags": []
          },
          "execution_count": 55
        },
        {
          "output_type": "display_data",
          "data": {
            "image/png": "[encoded data removed]",
            "text/plain": [
              "<Figure size 432x288 with 1 Axes>"
            ]
          },
          "metadata": {
            "tags": [],
            "needs_background": "light"
          }
        }
      ]
    },
    {
      "cell_type": "code",
      "metadata": {
        "id": "4YkRiQSdZe14",
        "colab_type": "code",
        "outputId": "300471a5-6aab-491b-932b-2ced19c9519f",
        "colab": {
          "base_uri": "https://localhost:8080/",
          "height": 168
        }
      },
      "source": [
        "from sklearn.metrics import classification_report\n",
        "\n",
        "test_labels = np.array(y_test)\n",
        "y_pred_list = np.array(y_pred_list)\n",
        "\n",
        "\n",
        "print(classification_report(test_labels, y_pred_list.round(), target_names=[\"Normal\", \"Abnormal\"]))"
      ],
      "execution_count": 0,
      "outputs": [
        {
          "output_type": "stream",
          "text": [
            "              precision    recall  f1-score   support\n",
            "\n",
            "      Normal       0.87      0.96      0.91     34069\n",
            "    Abnormal       0.95      0.83      0.88     29202\n",
            "\n",
            "    accuracy                           0.90     63271\n",
            "   macro avg       0.91      0.89      0.90     63271\n",
            "weighted avg       0.90      0.90      0.90     63271\n",
            "\n"
          ],
          "name": "stdout"
        }
      ]
    },
    {
      "cell_type": "code",
      "metadata": {
        "id": "fdtOjdQZerDu",
        "colab_type": "code",
        "colab": {}
      },
      "source": [
        ""
      ],
      "execution_count": 0,
      "outputs": []
    }
  ]
}