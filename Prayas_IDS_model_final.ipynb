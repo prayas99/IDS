{
  "nbformat": 4,
  "nbformat_minor": 0,
  "metadata": {
    "colab": {
      "name": "Prayas_IDS_model_2.ipynb",
      "provenance": [],
      "toc_visible": true,
      "mount_file_id": "1vun1KXPUnrnRUO7Hl67EFcEGvzE8SPTw",
      "authorship_tag": "ABX9TyM4BFp3MwYBbrDeBHRzCvKH",
      "include_colab_link": true
    },
    "kernelspec": {
      "name": "python3",
      "display_name": "Python 3"
    },
    "accelerator": "TPU"
  },
  "cells": [
    {
      "cell_type": "markdown",
      "metadata": {
        "id": "view-in-github",
        "colab_type": "text"
      },
      "source": [
        "<a href=\"https://colab.research.google.com/github/prayas99/SoC-2020-IDS/blob/master/Prayas_IDS_model_final.ipynb\" target=\"_parent\"><img src=\"https://colab.research.google.com/assets/colab-badge.svg\" alt=\"Open In Colab\"/></a>"
      ]
    },
    {
      "cell_type": "markdown",
      "metadata": {
        "id": "m-SKm-mek8Pg",
        "colab_type": "text"
      },
      "source": [
        "# Libraries"
      ]
    },
    {
      "cell_type": "code",
      "metadata": {
        "id": "teEGchnuFD2u",
        "colab_type": "code",
        "colab": {
          "base_uri": "https://localhost:8080/",
          "height": 71
        },
        "outputId": "dc445cdb-becd-4a37-88e4-b38fb76667e6"
      },
      "source": [
        "import numpy as np\n",
        "import pandas as pd\n",
        "import torch.nn as nn\n",
        "import torch.optim as optim\n",
        "import sklearn\n",
        "from sklearn.model_selection import train_test_split\n",
        "import torch\n",
        "import torchvision\n",
        "import torchvision.transforms as transforms\n",
        "from torch.utils.data import Dataset, DataLoader\n",
        "import torch.utils.data as data_utils\n",
        "import seaborn as sns\n",
        "import matplotlib.pyplot as plt\n",
        "from sklearn.svm import LinearSVC"
      ],
      "execution_count": 1,
      "outputs": [
        {
          "output_type": "stream",
          "text": [
            "/usr/local/lib/python3.6/dist-packages/statsmodels/tools/_testing.py:19: FutureWarning: pandas.util.testing is deprecated. Use the functions in the public API at pandas.testing instead.\n",
            "  import pandas.util.testing as tm\n"
          ],
          "name": "stderr"
        }
      ]
    },
    {
      "cell_type": "markdown",
      "metadata": {
        "id": "0ju21AEH5Y5S",
        "colab_type": "text"
      },
      "source": [
        "# Preprocessing"
      ]
    },
    {
      "cell_type": "code",
      "metadata": {
        "id": "35FnjVc5EopK",
        "colab_type": "code",
        "colab": {}
      },
      "source": [
        "import pandas as pd\n",
        "import numpy as np\n",
        "from glob import glob\n",
        "from sklearn import preprocessing\n",
        "from sklearn.model_selection import StratifiedShuffleSplit\n",
        "from sklearn.preprocessing import StandardScaler\n",
        "import os\n",
        "\n",
        "\n",
        "def combine_csv():\n",
        "    data_files = sorted(glob('/content/drive/My Drive/MachineLearningCSV/MachineLearningCVE/Dataset/*.pcap_ISCX.csv'))\n",
        "    ids = pd.read_csv(data_files[0])\n",
        "    for i in range(1, len(data_files)):\n",
        "        dfi = pd.read_csv(data_files[i])\n",
        "        dfi.dropna(axis=0, how='any', inplace=True)\n",
        "        ids = pd.concat((ids, dfi), ignore_index=True)\n",
        "\n",
        "    del dfi\n",
        "    print(ids.head())\n",
        "    print(ids.head())\n",
        "    ids.to_csv('/content/drive/My Drive/MachineLearningCSV/MachineLearningCVE/Dataset/combined_data.csv', index=False)\n",
        "\n",
        "\n",
        "def resize_dataset():\n",
        "    ids = pd.read_csv('/content/drive/My Drive/MachineLearningCSV/MachineLearningCVE/Dataset/combined_data.csv',\n",
        "                      dtype={'Flow Bytes/s': str, ' Flow Packets/s': str})\n",
        "    labels_to_drop = {'BENIGN': 0.1, 'DoS Hulk': 0.3, 'DDoS': 0.3, 'PortScan': 0.3}\n",
        "    for label in labels_to_drop:\n",
        "        df = ids.loc[ids[' Label'] == label]\n",
        "        ids.drop(ids.index[ids[' Label'] == label], inplace=True)\n",
        "        df = df.sample(frac=labels_to_drop[label])\n",
        "        ids = pd.concat((ids, df), ignore_index=True)\n",
        "\n",
        "    ids = ids.sample(frac=1, random_state=42)\n",
        "    ids.reset_index(drop=True, inplace=True)\n",
        "    ids['Flow Bytes/s'] = ids['Flow Bytes/s'].str.strip()\n",
        "    ids[' Flow Packets/s'] = ids[' Flow Packets/s'].str.strip()\n",
        "    ids = ids.astype({'Flow Bytes/s': float, ' Flow Packets/s': float})\n",
        "    ids.columns = ids.columns.str.strip()\n",
        "    ids.dropna(inplace=True)\n",
        "    indices_to_keep = ~ids.isin([np.nan, np.inf, -np.inf]).any(axis=1)\n",
        "    ids = ids[indices_to_keep]\n",
        "    ids.to_csv('/content/drive/My Drive/MachineLearningCSV/MachineLearningCVE/Dataset/resized_data.csv', index=False)\n",
        "    return ids\n",
        "\n",
        "\n",
        "def binary_label_encoder(y):\n",
        "    '''\n",
        "    converts multiclass labels to binary labels\n",
        "    '''\n",
        "    y[\"BinaryLabel\"] = (y[\"Label\"] != 'BENIGN').astype(int)\n",
        "\n",
        "    return y\n",
        "\n",
        "\n",
        "def split_dataset(df):\n",
        "    '''\n",
        "    Takes a dataframe df and splits it in 0.7:0.15:0.15 ratio for training, cross-validation and test sets.\n",
        "    '''\n",
        "    split = StratifiedShuffleSplit(n_splits=1, test_size=0.15, random_state=42)\n",
        "    for train_index, test_index in split.split(df, df['BinaryLabel']):\n",
        "        train = df.loc[train_index]\n",
        "        test = df.loc[test_index]\n",
        "\n",
        "    for train_index, cv_index in split.split(train, train['BinaryLabel']):\n",
        "        train = df.loc[train_index]\n",
        "        cv = df.loc[cv_index]\n",
        "\n",
        "    return train, cv, test\n",
        "\n",
        "if not os.path.isfile('/content/drive/My Drive/MachineLearningCSV/MachineLearningCVE/Dataset/combined_data.csv'):\n",
        "        combine_csv()\n",
        "if not os.path.isfile('/content/drive/My Drive/MachineLearningCSV/MachineLearningCVE/Dataset/resized_data.csv'):\n",
        "        resize_dataset()\n",
        "\n",
        "\n"
      ],
      "execution_count": 2,
      "outputs": []
    },
    {
      "cell_type": "markdown",
      "metadata": {
        "id": "7FnxZICD8bGw",
        "colab_type": "text"
      },
      "source": [
        "# Feature Selection"
      ]
    },
    {
      "cell_type": "code",
      "metadata": {
        "id": "uQ2J9aTB39OR",
        "colab_type": "code",
        "colab": {
          "base_uri": "https://localhost:8080/",
          "height": 207
        },
        "outputId": "cfa73df7-4004-4015-fb6e-cb9d944e61a0"
      },
      "source": [
        "import pandas as pd\n",
        "import numpy as np\n",
        "from sklearn.feature_selection import SelectKBest\n",
        "from sklearn.preprocessing import MinMaxScaler\n",
        "from sklearn.feature_selection import chi2\n",
        "#from preprocessing import binary_label_encoder, split_dataset\n",
        "\n",
        "dataset = pd.read_csv(\"/content/drive/My Drive/MachineLearningCSV/MachineLearningCVE/Dataset/resized_data.csv\")\n",
        "dataset = binary_label_encoder(dataset)\n",
        "train, cv, test = split_dataset(dataset)\n",
        "\n",
        "\n",
        "y_train = train[['BinaryLabel']]\n",
        "X_train = train.drop(['Label', 'BinaryLabel'], axis=1, inplace=False)\n",
        "cols = X_train.columns.tolist()\n",
        "mm_scaler = MinMaxScaler()\n",
        "X_new = X_train\n",
        "X_new[cols] = mm_scaler.fit_transform(X_train[cols])\n",
        "y_train = y_train['BinaryLabel'].values\n",
        "\n",
        "y_test = test[['BinaryLabel']]\n",
        "X_test = test.drop(['Label', 'BinaryLabel'], axis=1, inplace=False)\n",
        "cols = X_test.columns.tolist()\n",
        "mm_scaler = MinMaxScaler()\n",
        "X_test = X_test\n",
        "X_test[cols] = mm_scaler.fit_transform(X_test[cols])\n",
        "y_test = y_test['BinaryLabel'].values\n",
        "\n",
        "# Features needed can be changed below to get the top 'k'\n",
        "# features for model training\n",
        "features_needed = 15\n",
        "\n",
        "######################################################################\n",
        "\n",
        "print(\"Selection based on Pearson Correlation\")\n",
        "\n",
        "\n",
        "def cor_selector(X, y, num_feats):\n",
        "    cor_list = []\n",
        "    feature_name = X.columns.tolist()\n",
        "    # calculate the correlation with y for each feature\n",
        "    for i in X.columns.tolist():\n",
        "        cor = np.corrcoef(X[i], y)[0, 1]\n",
        "        cor_list.append(cor)\n",
        "    # replace NaN with 0\n",
        "    cor_list = [0 if np.isnan(i) else i for i in cor_list]\n",
        "    # feature name\n",
        "    cor_feature = X.iloc[:, np.argsort(np.abs(cor_list))[-num_feats:]].columns.tolist()\n",
        "    # feature selection? 0 for not select, 1 for select\n",
        "    cor_support = [True if i in cor_feature else False for i in feature_name]\n",
        "    return cor_support, cor_feature\n",
        "\n",
        "\n",
        "cor_support, cor_feature = cor_selector(X_new, y_train, features_needed)\n",
        "print(str(len(cor_feature)), 'selected features')\n",
        "print(cor_feature)\n",
        "\n",
        "#####################################################################\n",
        "\n",
        "print(\"Selection based on chi square distibution\")\n",
        "\n",
        "chi_selector = SelectKBest(chi2, k=features_needed)\n",
        "X_kbest_features = chi_selector.fit_transform(X_new, y_train)\n",
        "chi_support = chi_selector.get_support()\n",
        "chi_feature = X_new.loc[:, chi_support].columns.tolist()\n",
        "print(str(len(chi_feature)), 'selected features')\n",
        "print(chi_feature)\n",
        "\n",
        "\n",
        "# # More Raw Approach - Leaving the first 2 valued and\n",
        "# # last NaN valued features, all other features are\n",
        "# # dependent and can be considered for training\n",
        "\n",
        "# print(\"Raw Approach of chi square\")\n",
        "# chi_scores = chi2(X_new,y)\n",
        "# p_values = pd.Series(chi_scores[1],index = X_new.columns)\n",
        "# p_values.sort_values(ascending = False , inplace = True)\n",
        "# # p_values.plot.bar()\n",
        "# # print(p_values)\n"
      ],
      "execution_count": 8,
      "outputs": [
        {
          "output_type": "stream",
          "text": [
            "Selection based on Pearson Correlation\n"
          ],
          "name": "stdout"
        },
        {
          "output_type": "stream",
          "text": [
            "/usr/local/lib/python3.6/dist-packages/numpy/lib/function_base.py:2534: RuntimeWarning: invalid value encountered in true_divide\n",
            "  c /= stddev[:, None]\n",
            "/usr/local/lib/python3.6/dist-packages/numpy/lib/function_base.py:2535: RuntimeWarning: invalid value encountered in true_divide\n",
            "  c /= stddev[None, :]\n"
          ],
          "name": "stderr"
        },
        {
          "output_type": "stream",
          "text": [
            "15 selected features\n",
            "['Flow IAT Max', 'Fwd IAT Max', 'Idle Max', 'Average Packet Size', 'Fwd IAT Std', 'Packet Length Mean', 'Packet Length Variance', 'Max Packet Length', 'Packet Length Std', 'Avg Bwd Segment Size', 'Bwd Packet Length Mean', 'Bwd Packet Length Min', 'Min Packet Length', 'Bwd Packet Length Max', 'Bwd Packet Length Std']\n",
            "Selection based on chi square distibution\n",
            "15 selected features\n",
            "['Flow Duration', 'Bwd Packet Length Max', 'Bwd Packet Length Mean', 'Bwd Packet Length Std', 'Flow IAT Max', 'Fwd IAT Total', 'Fwd IAT Std', 'Fwd IAT Max', 'Packet Length Std', 'Packet Length Variance', 'PSH Flag Count', 'Avg Bwd Segment Size', 'Idle Mean', 'Idle Max', 'Idle Min']\n"
          ],
          "name": "stdout"
        }
      ]
    },
    {
      "cell_type": "markdown",
      "metadata": {
        "id": "fpZsCuGG9WK0",
        "colab_type": "text"
      },
      "source": [
        "# Model nn"
      ]
    },
    {
      "cell_type": "code",
      "metadata": {
        "id": "PO7wTm0v9Y-n",
        "colab_type": "code",
        "colab": {}
      },
      "source": [
        "X1, Y1 = X_new[chi_feature], y_train\n",
        "X2, Y2 = X_new[cor_feature], y_train\n",
        "\n",
        "X_test ,Y_test = X_test[chi_feature], y_test"
      ],
      "execution_count": 9,
      "outputs": []
    },
    {
      "cell_type": "code",
      "metadata": {
        "id": "l2mSma6l-Lj9",
        "colab_type": "code",
        "colab": {
          "base_uri": "https://localhost:8080/",
          "height": 231
        },
        "outputId": "6d979591-7092-472d-f8ff-cc393f9411b7"
      },
      "source": [
        "train_target = torch.tensor(Y1.astype(np.float32)) \n",
        "train = torch.tensor(X1.values.astype(np.float32)) \n",
        "\n",
        "train_tensor = data_utils.TensorDataset(train, train_target) \n",
        "train_loader = data_utils.DataLoader(dataset = train_tensor, batch_size = 64, shuffle = True)"
      ],
      "execution_count": 7,
      "outputs": [
        {
          "output_type": "error",
          "ename": "NameError",
          "evalue": "ignored",
          "traceback": [
            "\u001b[0;31m---------------------------------------------------------------------------\u001b[0m",
            "\u001b[0;31mNameError\u001b[0m                                 Traceback (most recent call last)",
            "\u001b[0;32m<ipython-input-7-b2a44aba14bb>\u001b[0m in \u001b[0;36m<module>\u001b[0;34m()\u001b[0m\n\u001b[0;32m----> 1\u001b[0;31m \u001b[0mtrain_target\u001b[0m \u001b[0;34m=\u001b[0m \u001b[0mtorch\u001b[0m\u001b[0;34m.\u001b[0m\u001b[0mtensor\u001b[0m\u001b[0;34m(\u001b[0m\u001b[0mY1\u001b[0m\u001b[0;34m.\u001b[0m\u001b[0mastype\u001b[0m\u001b[0;34m(\u001b[0m\u001b[0mnp\u001b[0m\u001b[0;34m.\u001b[0m\u001b[0mfloat32\u001b[0m\u001b[0;34m)\u001b[0m\u001b[0;34m)\u001b[0m\u001b[0;34m\u001b[0m\u001b[0;34m\u001b[0m\u001b[0m\n\u001b[0m\u001b[1;32m      2\u001b[0m \u001b[0mtrain\u001b[0m \u001b[0;34m=\u001b[0m \u001b[0mtorch\u001b[0m\u001b[0;34m.\u001b[0m\u001b[0mtensor\u001b[0m\u001b[0;34m(\u001b[0m\u001b[0mX1\u001b[0m\u001b[0;34m.\u001b[0m\u001b[0mvalues\u001b[0m\u001b[0;34m.\u001b[0m\u001b[0mastype\u001b[0m\u001b[0;34m(\u001b[0m\u001b[0mnp\u001b[0m\u001b[0;34m.\u001b[0m\u001b[0mfloat32\u001b[0m\u001b[0;34m)\u001b[0m\u001b[0;34m)\u001b[0m\u001b[0;34m\u001b[0m\u001b[0;34m\u001b[0m\u001b[0m\n\u001b[1;32m      3\u001b[0m \u001b[0;34m\u001b[0m\u001b[0m\n\u001b[1;32m      4\u001b[0m \u001b[0mtrain_tensor\u001b[0m \u001b[0;34m=\u001b[0m \u001b[0mdata_utils\u001b[0m\u001b[0;34m.\u001b[0m\u001b[0mTensorDataset\u001b[0m\u001b[0;34m(\u001b[0m\u001b[0mtrain\u001b[0m\u001b[0;34m,\u001b[0m \u001b[0mtrain_target\u001b[0m\u001b[0;34m)\u001b[0m\u001b[0;34m\u001b[0m\u001b[0;34m\u001b[0m\u001b[0m\n\u001b[1;32m      5\u001b[0m \u001b[0mtrain_loader\u001b[0m \u001b[0;34m=\u001b[0m \u001b[0mdata_utils\u001b[0m\u001b[0;34m.\u001b[0m\u001b[0mDataLoader\u001b[0m\u001b[0;34m(\u001b[0m\u001b[0mdataset\u001b[0m \u001b[0;34m=\u001b[0m \u001b[0mtrain_tensor\u001b[0m\u001b[0;34m,\u001b[0m \u001b[0mbatch_size\u001b[0m \u001b[0;34m=\u001b[0m \u001b[0;36m64\u001b[0m\u001b[0;34m,\u001b[0m \u001b[0mshuffle\u001b[0m \u001b[0;34m=\u001b[0m \u001b[0;32mTrue\u001b[0m\u001b[0;34m)\u001b[0m\u001b[0;34m\u001b[0m\u001b[0;34m\u001b[0m\u001b[0m\n",
            "\u001b[0;31mNameError\u001b[0m: name 'Y1' is not defined"
          ]
        }
      ]
    },
    {
      "cell_type": "code",
      "metadata": {
        "id": "KJhmUjqsVytT",
        "colab_type": "code",
        "colab": {}
      },
      "source": [
        "test_target = torch.tensor(Y_test.astype(np.float32))\n",
        "test = torch.tensor(X_test.values.astype(np.float32)) \n",
        "\n",
        "test_tensor = data_utils.TensorDataset(test,test_target) \n",
        "test_loader = data_utils.DataLoader(dataset = test_tensor, batch_size = 1, shuffle = False)"
      ],
      "execution_count": null,
      "outputs": []
    },
    {
      "cell_type": "code",
      "metadata": {
        "id": "nuKrmRELFiU5",
        "colab_type": "code",
        "colab": {}
      },
      "source": [
        "class binaryClassification(nn.Module):\n",
        "    def __init__(self):\n",
        "        super(binaryClassification, self).__init__()\n",
        "        # Number of input features is 6.\n",
        "        self.layer_1 = nn.Linear(15, 34) \n",
        "        self.layer_2 = nn.Linear(34, 52)\n",
        "        self.layer_out = nn.Linear(52, 1) \n",
        "        \n",
        "        self.relu = nn.ReLU()\n",
        "        self.dropout = nn.Dropout(p=0.1)\n",
        "        self.batchnorm1 = nn.BatchNorm1d(34)\n",
        "        self.batchnorm2 = nn.BatchNorm1d(52)\n",
        "        \n",
        "    def forward(self, inputs):\n",
        "        x = self.relu(self.layer_1(inputs))\n",
        "        x = self.batchnorm1(x)\n",
        "        x = self.relu(self.layer_2(x))\n",
        "        x = self.batchnorm2(x)\n",
        "        x = self.dropout(x)\n",
        "        x = self.layer_out(x)\n",
        "        \n",
        "        return x"
      ],
      "execution_count": null,
      "outputs": []
    },
    {
      "cell_type": "code",
      "metadata": {
        "id": "7guC8e4WPEW3",
        "colab_type": "code",
        "colab": {
          "base_uri": "https://localhost:8080/",
          "height": 168
        },
        "outputId": "e19d06e3-76a2-4f74-8922-a806be152371"
      },
      "source": [
        "model = binaryClassification()\n",
        "print(model)\n",
        "criterion = nn.BCEWithLogitsLoss()\n",
        "optimizer = optim.Adam(model.parameters(), lr=0.01)"
      ],
      "execution_count": null,
      "outputs": [
        {
          "output_type": "stream",
          "text": [
            "binaryClassification(\n",
            "  (layer_1): Linear(in_features=15, out_features=34, bias=True)\n",
            "  (layer_2): Linear(in_features=34, out_features=52, bias=True)\n",
            "  (layer_out): Linear(in_features=52, out_features=1, bias=True)\n",
            "  (relu): ReLU()\n",
            "  (dropout): Dropout(p=0.1, inplace=False)\n",
            "  (batchnorm1): BatchNorm1d(34, eps=1e-05, momentum=0.1, affine=True, track_running_stats=True)\n",
            "  (batchnorm2): BatchNorm1d(52, eps=1e-05, momentum=0.1, affine=True, track_running_stats=True)\n",
            ")\n"
          ],
          "name": "stdout"
        }
      ]
    },
    {
      "cell_type": "code",
      "metadata": {
        "id": "owZqOrSXPiEU",
        "colab_type": "code",
        "colab": {}
      },
      "source": [
        "def binary_acc(y_pred, y_test):\n",
        "    y_pred_tag = torch.round(torch.sigmoid(y_pred))\n",
        "\n",
        "    correct_results_sum = (y_pred_tag == y_test).sum().float()\n",
        "    acc = correct_results_sum/y_test.shape[0]\n",
        "    acc = torch.round(acc * 100)\n",
        "    \n",
        "    return acc"
      ],
      "execution_count": null,
      "outputs": []
    },
    {
      "cell_type": "code",
      "metadata": {
        "id": "xqjC_v02Ps2B",
        "colab_type": "code",
        "colab": {
          "base_uri": "https://localhost:8080/",
          "height": 34
        },
        "outputId": "a26e48b1-bd5a-49ca-9073-579881c9210b"
      },
      "source": [
        "model.train()\n",
        "EPOCHS = 1\n",
        "for e in range(1, EPOCHS+1):\n",
        "    epoch_loss = 0\n",
        "    epoch_acc = 0\n",
        "    for X_batch, y_batch in train_loader:\n",
        "        #X_batch, y_batch = X_batch.to(device), y_batch.to(device)\n",
        "        optimizer.zero_grad()\n",
        "        \n",
        "        y_pred = model(X_batch)\n",
        "        \n",
        "        #print(y_pred.size())\n",
        "        #print(y_batch.size())\n",
        "        loss = criterion(y_pred, y_batch.unsqueeze(1))\n",
        "        #print(loss.size())\n",
        "        acc = binary_acc(y_pred, y_batch.unsqueeze(1))\n",
        "        \n",
        "        loss.backward()\n",
        "        optimizer.step()\n",
        "        \n",
        "        epoch_loss += loss.item()\n",
        "        epoch_acc += acc.item()\n",
        "        \n",
        "\n",
        "    print(f'Epoch {e}: | Loss: {epoch_loss/len(train_loader):.5f} | Acc: {epoch_acc/len(train_loader):.3f}')"
      ],
      "execution_count": null,
      "outputs": [
        {
          "output_type": "stream",
          "text": [
            "Epoch 1: | Loss: 0.25420 | Acc: 87.913\n"
          ],
          "name": "stdout"
        }
      ]
    },
    {
      "cell_type": "code",
      "metadata": {
        "id": "OIWuVkBpPwh-",
        "colab_type": "code",
        "colab": {}
      },
      "source": [
        "y_pred_list = []\n",
        "y_correct = []\n",
        "model.eval()\n",
        "with torch.no_grad():\n",
        "    for X_batch, y_batch in test_loader:\n",
        "        #X_batch, y_batch = X_batch.to(device), y_batch.to(device)\n",
        "        y_test_pred = model(X_batch)\n",
        "        y_test_pred = torch.sigmoid(y_test_pred)\n",
        "        #y_pred_tag = torch.round(y_test_pred)\n",
        "        #y_pred_list.append(y_pred_tag.cpu().numpy())\n",
        "        y_pred_list.append(y_test_pred.cpu().numpy())\n",
        "        y_correct.append(y_batch.numpy())\n",
        "\n",
        "y_pred_list = [a.squeeze().tolist() for a in y_pred_list]\n",
        "y_correct_list = [a.squeeze().tolist() for a in y_correct]"
      ],
      "execution_count": null,
      "outputs": []
    },
    {
      "cell_type": "code",
      "metadata": {
        "id": "p7eW-gezWUcL",
        "colab_type": "code",
        "colab": {}
      },
      "source": [
        "y_pred_ana = []\n",
        "y_pred_non = []\n",
        "temp1 = len(y_correct_list)\n",
        "for i in range(0,temp1):\n",
        "  if y_correct_list[i] == 1:\n",
        "    y_pred_ana.append(y_pred_list[i])\n",
        "  else:  \n",
        "    y_pred_non.append(y_pred_list[i])\n",
        "\n",
        "y_pred_non = [i * 100 for i in y_pred_non]\n",
        "y_pred_ana = [i * 100 for i in y_pred_ana]"
      ],
      "execution_count": null,
      "outputs": []
    },
    {
      "cell_type": "code",
      "metadata": {
        "id": "a6pc79L3WbYm",
        "colab_type": "code",
        "colab": {
          "base_uri": "https://localhost:8080/",
          "height": 296
        },
        "outputId": "22bedd82-99c1-46e0-99d9-3f485e76c336"
      },
      "source": [
        "data = y_pred_non\n",
        "bins = np.linspace(0, 100, 25, endpoint=True)\n",
        "plt.hist(data, bins,color = 'blue',alpha =0.5, label = 'Non Spam')\n",
        "\n",
        "data1 = y_pred_ana\n",
        "bins = np.linspace(0, 100, 25, endpoint=True)\n",
        "plt.hist(data1, bins,color = 'orange', label = 'Spam')\n",
        "\n",
        "plt.legend(bbox_to_anchor=(1.05, 1), loc='upper left')\n",
        "plt.xlabel('Anamoaly Score')\n",
        "plt.ylabel('Occurences')"
      ],
      "execution_count": null,
      "outputs": [
        {
          "output_type": "execute_result",
          "data": {
            "text/plain": [
              "Text(0, 0.5, 'Occurences')"
            ]
          },
          "metadata": {
            "tags": []
          },
          "execution_count": 13
        },
        {
          "output_type": "display_data",
          "data": {
            "image/png": "[encoded data removed]",
            "text/plain": [
              "<Figure size 432x288 with 1 Axes>"
            ]
          },
          "metadata": {
            "tags": [],
            "needs_background": "light"
          }
        }
      ]
    },
    {
      "cell_type": "code",
      "metadata": {
        "id": "4YkRiQSdZe14",
        "colab_type": "code",
        "colab": {}
      },
      "source": [
        "from sklearn.metrics import classification_report\n",
        "\n",
        "test_labels = np.array(y_test)\n",
        "y_pred_list = np.array(y_pred_list)\n",
        "\n",
        "\n",
        "print(classification_report(test_labels, y_pred_list.round(), target_names=[\"Normal\", \"Abnormal\"]))"
      ],
      "execution_count": null,
      "outputs": []
    },
    {
      "cell_type": "code",
      "metadata": {
        "id": "fdtOjdQZerDu",
        "colab_type": "code",
        "colab": {}
      },
      "source": [
        ""
      ],
      "execution_count": null,
      "outputs": []
    },
    {
      "cell_type": "markdown",
      "metadata": {
        "id": "vL2_SMwNDgYB",
        "colab_type": "text"
      },
      "source": [
        "# Model RF"
      ]
    },
    {
      "cell_type": "code",
      "metadata": {
        "id": "CIulneGrDicZ",
        "colab_type": "code",
        "colab": {}
      },
      "source": [
        "x1,y1 = X_new[chi_feature], y_train\n",
        "x_test,y_test = X_test[chi_feature],y_test"
      ],
      "execution_count": 10,
      "outputs": []
    },
    {
      "cell_type": "code",
      "metadata": {
        "id": "1WiQoYXzDnBK",
        "colab_type": "code",
        "colab": {
          "base_uri": "https://localhost:8080/",
          "height": 151
        },
        "outputId": "fb75a5f1-f08c-4310-d6d1-9ddc1d709abb"
      },
      "source": [
        "from sklearn.ensemble import RandomForestClassifier\n",
        "classifier = RandomForestClassifier(n_estimators = 70)\n",
        "classifier.fit(x1,y1)"
      ],
      "execution_count": null,
      "outputs": [
        {
          "output_type": "execute_result",
          "data": {
            "text/plain": [
              "RandomForestClassifier(bootstrap=True, ccp_alpha=0.0, class_weight=None,\n",
              "                       criterion='gini', max_depth=None, max_features='auto',\n",
              "                       max_leaf_nodes=None, max_samples=None,\n",
              "                       min_impurity_decrease=0.0, min_impurity_split=None,\n",
              "                       min_samples_leaf=1, min_samples_split=2,\n",
              "                       min_weight_fraction_leaf=0.0, n_estimators=70,\n",
              "                       n_jobs=None, oob_score=False, random_state=None,\n",
              "                       verbose=0, warm_start=False)"
            ]
          },
          "metadata": {
            "tags": []
          },
          "execution_count": 16
        }
      ]
    },
    {
      "cell_type": "code",
      "metadata": {
        "id": "CGSQJ08SDomF",
        "colab_type": "code",
        "colab": {}
      },
      "source": [
        "y_pred = classifier.predict(x_test)"
      ],
      "execution_count": null,
      "outputs": []
    },
    {
      "cell_type": "code",
      "metadata": {
        "id": "U-xlea2mDp8s",
        "colab_type": "code",
        "colab": {
          "base_uri": "https://localhost:8080/",
          "height": 255
        },
        "outputId": "7ad4c02c-8615-4301-d59b-2de86a75684d"
      },
      "source": [
        "from sklearn.metrics import classification_report, confusion_matrix, accuracy_score\n",
        "result = confusion_matrix(y_test,y_pred)\n",
        "print(\"Confusion Matrix:\")\n",
        "print(result)\n",
        "result1 = classification_report(y_test,y_pred)\n",
        "print(\"Classification Report:\",)\n",
        "print (result1)\n",
        "result2 = accuracy_score(y_test,y_pred)\n",
        "print(\"Accuracy:\",result2)"
      ],
      "execution_count": 17,
      "outputs": [
        {
          "output_type": "stream",
          "text": [
            "Confusion Matrix:\n",
            "[[31288  2780]\n",
            " [ 7992 21211]]\n",
            "Classification Report:\n",
            "              precision    recall  f1-score   support\n",
            "\n",
            "           0       0.80      0.92      0.85     34068\n",
            "           1       0.88      0.73      0.80     29203\n",
            "\n",
            "    accuracy                           0.83     63271\n",
            "   macro avg       0.84      0.82      0.83     63271\n",
            "weighted avg       0.84      0.83      0.83     63271\n",
            "\n",
            "Accuracy: 0.8297482258854768\n"
          ],
          "name": "stdout"
        }
      ]
    },
    {
      "cell_type": "markdown",
      "metadata": {
        "id": "OyxVLUHZ3mXg",
        "colab_type": "text"
      },
      "source": [
        "# Hyperparameter Tuning"
      ]
    },
    {
      "cell_type": "code",
      "metadata": {
        "id": "f_jUdZXt_fd7",
        "colab_type": "code",
        "colab": {
          "base_uri": "https://localhost:8080/",
          "height": 84
        },
        "outputId": "9539b551-473b-4f63-a9c3-2597ce8baec8"
      },
      "source": [
        "model = classifier\n",
        "grid = {'n_estimators': [10, 13,15,20,70,100,150]\n",
        "        #'max_features': [0.05, 0.07, 0.15, 0.25],\n",
        "        #'min_samples_split': [2, 10,50,200]\n",
        "        }\n",
        "\n",
        "rf_gridsearch = sklearn.model_selection.GridSearchCV(estimator=model, param_grid=grid, n_jobs=4, \n",
        "                             cv=None, verbose=5, return_train_score=True)\n",
        "\n",
        "rf_gridsearch.fit(x1, y1)\n",
        "\n",
        "# and after some hours...\n",
        "df_gridsearch = pd.DataFrame(rf_gridsearch.cv_results_)"
      ],
      "execution_count": null,
      "outputs": [
        {
          "output_type": "stream",
          "text": [
            "Fitting 5 folds for each of 7 candidates, totalling 35 fits\n"
          ],
          "name": "stdout"
        },
        {
          "output_type": "stream",
          "text": [
            "[Parallel(n_jobs=4)]: Using backend LokyBackend with 4 concurrent workers.\n",
            "[Parallel(n_jobs=4)]: Done  10 tasks      | elapsed:   42.3s\n",
            "[Parallel(n_jobs=4)]: Done  35 out of  35 | elapsed:  9.5min finished\n"
          ],
          "name": "stderr"
        }
      ]
    },
    {
      "cell_type": "code",
      "metadata": {
        "id": "uk9MCqoPeeHQ",
        "colab_type": "code",
        "colab": {
          "base_uri": "https://localhost:8080/",
          "height": 370
        },
        "outputId": "ed5acc46-11db-4f22-aa4a-0a20be02913c"
      },
      "source": [
        "model = classifier\n",
        "grid2 = {#'n_estimators': [10, 13,15,20,70,100,150]\n",
        "        'max_features': [0.05, 0.07, 0.15, 0.25],\n",
        "        #'min_samples_split': [2, 10,50,200]\n",
        "        }\n",
        "\n",
        "rf_gridsearch2 = sklearn.model_selection.GridSearchCV(estimator=model, param_grid=grid2, n_jobs=4, \n",
        "                             cv=3, verbose=50, return_train_score=True)\n",
        "\n",
        "rf_gridsearch2.fit(x1, y1)\n",
        "\n",
        "# and after some hours...\n",
        "df_gridsearch2 = pd.DataFrame(rf_gridsearch2.cv_results_)\n",
        "print(df_gridsearch2.columns)"
      ],
      "execution_count": null,
      "outputs": [
        {
          "output_type": "stream",
          "text": [
            "Fitting 3 folds for each of 4 candidates, totalling 12 fits\n",
            "[Parallel(n_jobs=4)]: Using backend LokyBackend with 4 concurrent workers.\n",
            "[Parallel(n_jobs=4)]: Done   1 tasks      | elapsed:   40.2s\n",
            "[Parallel(n_jobs=4)]: Done   2 tasks      | elapsed:   40.3s\n",
            "[Parallel(n_jobs=4)]: Done   3 tasks      | elapsed:   41.2s\n",
            "[Parallel(n_jobs=4)]: Done   4 tasks      | elapsed:   42.0s\n",
            "[Parallel(n_jobs=4)]: Done   5 tasks      | elapsed:  1.3min\n",
            "[Parallel(n_jobs=4)]: Done   6 out of  12 | elapsed:  1.3min remaining:  1.3min\n",
            "[Parallel(n_jobs=4)]: Done   7 out of  12 | elapsed:  1.5min remaining:  1.1min\n",
            "[Parallel(n_jobs=4)]: Done   8 out of  12 | elapsed:  1.6min remaining:   46.7s\n",
            "[Parallel(n_jobs=4)]: Done   9 out of  12 | elapsed:  2.1min remaining:   43.0s\n",
            "[Parallel(n_jobs=4)]: Done  10 out of  12 | elapsed:  2.3min remaining:   28.1s\n",
            "[Parallel(n_jobs=4)]: Done  12 out of  12 | elapsed:  2.5min remaining:    0.0s\n",
            "[Parallel(n_jobs=4)]: Done  12 out of  12 | elapsed:  2.5min finished\n",
            "Index(['mean_fit_time', 'std_fit_time', 'mean_score_time', 'std_score_time',\n",
            "       'param_max_features', 'params', 'split0_test_score',\n",
            "       'split1_test_score', 'split2_test_score', 'mean_test_score',\n",
            "       'std_test_score', 'rank_test_score', 'split0_train_score',\n",
            "       'split1_train_score', 'split2_train_score', 'mean_train_score',\n",
            "       'std_train_score'],\n",
            "      dtype='object')\n"
          ],
          "name": "stdout"
        }
      ]
    },
    {
      "cell_type": "code",
      "metadata": {
        "id": "3cJmQJheh4Jr",
        "colab_type": "code",
        "colab": {
          "base_uri": "https://localhost:8080/",
          "height": 134
        },
        "outputId": "94195b59-1e47-4222-d125-018307c6163f"
      },
      "source": [
        "print(df_gridsearch2.columns)"
      ],
      "execution_count": null,
      "outputs": [
        {
          "output_type": "stream",
          "text": [
            "Index(['mean_fit_time', 'std_fit_time', 'mean_score_time', 'std_score_time',\n",
            "       'param_max_features', 'params', 'split0_test_score',\n",
            "       'split1_test_score', 'split2_test_score', 'mean_test_score',\n",
            "       'std_test_score', 'rank_test_score', 'split0_train_score',\n",
            "       'split1_train_score', 'split2_train_score', 'mean_train_score',\n",
            "       'std_train_score'],\n",
            "      dtype='object')\n"
          ],
          "name": "stdout"
        }
      ]
    },
    {
      "cell_type": "code",
      "metadata": {
        "id": "mzmRFmOxfH_v",
        "colab_type": "code",
        "colab": {
          "base_uri": "https://localhost:8080/",
          "height": 84
        },
        "outputId": "f0a5d766-af3a-4c61-b440-66bc46abc40c"
      },
      "source": [
        "model = classifier\n",
        "grid3 = {#'n_estimators': [10, 13,15,20,70,100,150]\n",
        "        #'max_features': [0.05, 0.07, 0.15, 0.25],\n",
        "        'min_samples_split': [2, 10,50,200]\n",
        "        }\n",
        "\n",
        "rf_gridsearch3 = sklearn.model_selection.GridSearchCV(estimator=model, param_grid=grid3, n_jobs=4, \n",
        "                             cv=3, verbose=5, return_train_score=True)\n",
        "\n",
        "rf_gridsearch3.fit(x1, y1)\n",
        "\n",
        "# and after some hours...\n",
        "df_gridsearch3 = pd.DataFrame(rf_gridsearch3.cv_results_)"
      ],
      "execution_count": null,
      "outputs": [
        {
          "output_type": "stream",
          "text": [
            "Fitting 3 folds for each of 4 candidates, totalling 12 fits\n"
          ],
          "name": "stdout"
        },
        {
          "output_type": "stream",
          "text": [
            "[Parallel(n_jobs=4)]: Using backend LokyBackend with 4 concurrent workers.\n",
            "[Parallel(n_jobs=4)]: Done   8 out of  12 | elapsed:  2.2min remaining:  1.1min\n",
            "[Parallel(n_jobs=4)]: Done  12 out of  12 | elapsed:  3.2min finished\n"
          ],
          "name": "stderr"
        }
      ]
    },
    {
      "cell_type": "code",
      "metadata": {
        "id": "WEa2hecAm31G",
        "colab_type": "code",
        "colab": {
          "base_uri": "https://localhost:8080/",
          "height": 531
        },
        "outputId": "d1c6ff40-29a4-4fa3-a1b2-b2b09403b8c8"
      },
      "source": [
        "fig, (ax1, ax2, ax3) = plt.subplots(1, 3, figsize=(15,8))\n",
        "\n",
        "sns.axes_style(\"darkgrid\")\n",
        "sns.lineplot(x=\"param_n_estimators\", y=\"mean_test_score\",\n",
        "             data=df_gridsearch,markers=True, dashes=False,err_style=None,palette = 'Set1',label='Test Score',ax=ax1)\n",
        "sns.lineplot(x=\"param_n_estimators\", y=\"mean_train_score\",\n",
        "             data=df_gridsearch,markers=True, dashes=False,err_style=None,palette = 'Set1',label='Train Score',ax=ax1)\n",
        "ax1.set(xlabel='Number of estimators', ylabel='Scores',title = \"Validation Scores\")\n",
        "ax1.legend()\n",
        "\n",
        "sns.lineplot(x=\"param_max_features\", y=\"mean_test_score\",\n",
        "             data=df_gridsearch2,markers=True, dashes=False,err_style=None,palette = 'Set1',label='Test Score',ax=ax2)\n",
        "sns.lineplot(x=\"param_max_features\", y=\"mean_train_score\",\n",
        "             data=df_gridsearch2,markers=True, dashes=False,err_style=None,palette = 'Set1',label='Train Score',ax=ax2)\n",
        "ax2.set(xlabel='max_features', ylabel='',title = \"Validation Scores\")\n",
        "ax2.get_yaxis().set_ticks([])\n",
        "ax2.legend()\n",
        "\n",
        "sns.lineplot(x=\"param_min_samples_split\", y=\"mean_test_score\",\n",
        "             data=df_gridsearch3,markers=True, dashes=False,err_style=None,palette = 'Set1',label='Test Score',ax=ax3)\n",
        "sns.lineplot(x=\"param_min_samples_split\", y=\"mean_train_score\",\n",
        "             data=df_gridsearch3,markers=True, dashes=False,err_style=None,palette = 'Set1',label='Train Score',ax=ax3)\n",
        "ax3.set(xlabel='min_samples_split', ylabel='',title = \"Validation Scores\")\n",
        "ax3.get_yaxis().set_ticks([])\n",
        "ax3.legend()"
      ],
      "execution_count": null,
      "outputs": [
        {
          "output_type": "execute_result",
          "data": {
            "text/plain": [
              "<matplotlib.legend.Legend at 0x7fbd7d098fd0>"
            ]
          },
          "metadata": {
            "tags": []
          },
          "execution_count": 24
        },
        {
          "output_type": "display_data",
          "data": {
            "image/png": "[encoded data removed]",
            "text/plain": [
              "<Figure size 1080x576 with 3 Axes>"
            ]
          },
          "metadata": {
            "tags": [],
            "needs_background": "light"
          }
        }
      ]
    },
    {
      "cell_type": "markdown",
      "metadata": {
        "id": "g4_dDSxolERL",
        "colab_type": "text"
      },
      "source": [
        "# Model SVM"
      ]
    },
    {
      "cell_type": "code",
      "metadata": {
        "id": "0ufycSvmlHpR",
        "colab_type": "code",
        "colab": {}
      },
      "source": [
        "\n",
        "import numpy as np\n",
        "import cvxopt\n",
        "from sklearn.datasets.samples_generator import make_blobs\n",
        "from sklearn.model_selection import train_test_split\n",
        "from matplotlib import pyplot as plt\n",
        "from sklearn.svm import LinearSVC\n",
        "from sklearn.metrics import confusion_matrix"
      ],
      "execution_count": 11,
      "outputs": []
    },
    {
      "cell_type": "code",
      "metadata": {
        "id": "uBF92n_CDuCe",
        "colab_type": "code",
        "colab": {
          "base_uri": "https://localhost:8080/",
          "height": 85
        },
        "outputId": "4d5f8fa0-486b-4f87-8d29-c7712183f99b"
      },
      "source": [
        "svc = LinearSVC()\n",
        "svc.fit(x1,y1)"
      ],
      "execution_count": 12,
      "outputs": [
        {
          "output_type": "execute_result",
          "data": {
            "text/plain": [
              "LinearSVC(C=1.0, class_weight=None, dual=True, fit_intercept=True,\n",
              "          intercept_scaling=1, loss='squared_hinge', max_iter=1000,\n",
              "          multi_class='ovr', penalty='l2', random_state=None, tol=0.0001,\n",
              "          verbose=0)"
            ]
          },
          "metadata": {
            "tags": []
          },
          "execution_count": 12
        }
      ]
    },
    {
      "cell_type": "code",
      "metadata": {
        "id": "ksvXgJVvHJbC",
        "colab_type": "code",
        "colab": {
          "base_uri": "https://localhost:8080/",
          "height": 51
        },
        "outputId": "6a889e59-d3b3-48f9-bec2-ef9b5891b37e"
      },
      "source": [
        "y_pred = svc.predict(x_test)\n",
        "confusion_matrix(y_test, y_pred)"
      ],
      "execution_count": 13,
      "outputs": [
        {
          "output_type": "execute_result",
          "data": {
            "text/plain": [
              "array([[31288,  2780],\n",
              "       [ 7992, 21211]])"
            ]
          },
          "metadata": {
            "tags": []
          },
          "execution_count": 13
        }
      ]
    },
    {
      "cell_type": "code",
      "metadata": {
        "id": "1-xCkvB6CcN8",
        "colab_type": "code",
        "colab": {
          "base_uri": "https://localhost:8080/",
          "height": 204
        },
        "outputId": "ac597d49-fb56-4643-8641-ee6ab1ed1c25"
      },
      "source": [
        "result1 = classification_report(y_test,y_pred)\n",
        "print(\"Classification Report:\",)\n",
        "print (result1)\n",
        "result2 = accuracy_score(y_test,y_pred)\n",
        "print(\"Accuracy:\",result2)"
      ],
      "execution_count": 18,
      "outputs": [
        {
          "output_type": "stream",
          "text": [
            "Classification Report:\n",
            "              precision    recall  f1-score   support\n",
            "\n",
            "           0       0.80      0.92      0.85     34068\n",
            "           1       0.88      0.73      0.80     29203\n",
            "\n",
            "    accuracy                           0.83     63271\n",
            "   macro avg       0.84      0.82      0.83     63271\n",
            "weighted avg       0.84      0.83      0.83     63271\n",
            "\n",
            "Accuracy: 0.8297482258854768\n"
          ],
          "name": "stdout"
        }
      ]
    },
    {
      "cell_type": "code",
      "metadata": {
        "id": "ORbIgf1oDoJL",
        "colab_type": "code",
        "colab": {}
      },
      "source": [
        ""
      ],
      "execution_count": null,
      "outputs": []
    }
  ]
}